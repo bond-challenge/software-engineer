{
 "cells": [
  {
   "cell_type": "code",
   "execution_count": 34,
   "metadata": {},
   "outputs": [],
   "source": [
    "\n",
    "class Interface:\n",
    "    def __init__(self,data):\n",
    "        self.data=data\n",
    "    def show(self):\n",
    "        pass\n",
    "    def add_Elements(self,x):\n",
    "        pass\n",
    "    def get_Elements(self):\n",
    "        pass\n",
    "    def get_Average(self,n):\n",
    "        pass\n",
    "    "
   ]
  },
  {
   "cell_type": "code",
   "execution_count": 35,
   "metadata": {},
   "outputs": [],
   "source": [
    "class main_class(Interface):\n",
    "    def show(self):\n",
    "        print(self.data)\n",
    "    \n",
    "    def add_Elements(self,value):\n",
    "        try:\n",
    "            self.data.append(value)\n",
    "            print('appending done')\n",
    "        except:\n",
    "            print('error while adding elements')\n",
    "        \n",
    "    def get_Elements(self):\n",
    "        try:\n",
    "            if len(self.data)==0:\n",
    "                print('size of data retrieval is 0')\n",
    "            else:\n",
    "                return self.data\n",
    "        except:\n",
    "            print('an error occured while getting elements')\n",
    "            \n",
    "    def get_Average(self,n):\n",
    "        return sum(self.data[-n:])/n\n",
    "            "
   ]
  },
  {
   "cell_type": "code",
   "execution_count": 36,
   "metadata": {},
   "outputs": [],
   "source": [
    "lst=list(range(1,10))\n",
    "x=main_class(lst)"
   ]
  },
  {
   "cell_type": "code",
   "execution_count": 37,
   "metadata": {},
   "outputs": [
    {
     "name": "stdout",
     "output_type": "stream",
     "text": [
      "[1, 2, 3, 4, 5, 6, 7, 8, 9]\n"
     ]
    }
   ],
   "source": [
    "x.show()"
   ]
  },
  {
   "cell_type": "code",
   "execution_count": 38,
   "metadata": {},
   "outputs": [
    {
     "data": {
      "text/plain": [
       "8.0"
      ]
     },
     "execution_count": 38,
     "metadata": {},
     "output_type": "execute_result"
    }
   ],
   "source": [
    "x.get_Average(3)"
   ]
  },
  {
   "cell_type": "code",
   "execution_count": 41,
   "metadata": {},
   "outputs": [
    {
     "name": "stdout",
     "output_type": "stream",
     "text": [
      "appending done\n",
      "appending done\n"
     ]
    }
   ],
   "source": [
    "x.add_Elements(10)\n",
    "x.add_Elements(10)"
   ]
  },
  {
   "cell_type": "code",
   "execution_count": 42,
   "metadata": {},
   "outputs": [
    {
     "name": "stdout",
     "output_type": "stream",
     "text": [
      "[1, 2, 3, 4, 5, 6, 7, 8, 9, 10, 10, 10]\n"
     ]
    }
   ],
   "source": [
    "x.show()"
   ]
  },
  {
   "cell_type": "code",
   "execution_count": null,
   "metadata": {},
   "outputs": [],
   "source": []
  }
 ],
 "metadata": {
  "kernelspec": {
   "display_name": "Python 3",
   "language": "python",
   "name": "python3"
  },
  "language_info": {
   "codemirror_mode": {
    "name": "ipython",
    "version": 3
   },
   "file_extension": ".py",
   "mimetype": "text/x-python",
   "name": "python",
   "nbconvert_exporter": "python",
   "pygments_lexer": "ipython3",
   "version": "3.8.8"
  }
 },
 "nbformat": 4,
 "nbformat_minor": 4
}
