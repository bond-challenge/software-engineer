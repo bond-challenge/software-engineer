{
  "nbformat": 4,
  "nbformat_minor": 0,
  "metadata": {
    "colab": {
      "name": "coding.ipynb",
      "provenance": [],
      "authorship_tag": "ABX9TyMlhGwdPMwwknJVhOL0XPH4",
      "include_colab_link": true
    },
    "kernelspec": {
      "name": "python3",
      "display_name": "Python 3"
    },
    "language_info": {
      "name": "python"
    }
  },
  "cells": [
    {
      "cell_type": "markdown",
      "metadata": {
        "id": "view-in-github",
        "colab_type": "text"
      },
      "source": [
        "<a href=\"https://colab.research.google.com/github/smitasahoo/software-engineering/blob/main/coding.ipynb\" target=\"_parent\"><img src=\"https://colab.research.google.com/assets/colab-badge.svg\" alt=\"Open In Colab\"/></a>"
      ]
    },
    {
      "cell_type": "code",
      "source": [
        "class Interface:\n",
        "  def __init__(self,list_new):\n",
        "    self.list_new=list_new\n",
        "  def display(self):\n",
        "    pass\n",
        "  def lastnaverage(self,N):\n",
        "    pass\n",
        "  def addelements(self,x):\n",
        "    pass\n",
        "  def getaccess(self):\n",
        "    pass\n"
      ],
      "metadata": {
        "id": "H8xymUp_7ayT"
      },
      "execution_count": null,
      "outputs": []
    },
    {
      "cell_type": "code",
      "source": [
        "class implementation(Interface):\n",
        "  def display(self):\n",
        "    print(self.list_new)\n",
        "  def lastnaverage(self,N):\n",
        "    return sum(self.list_new[-N:])/N\n",
        "  def add(self,x):\n",
        "    return self.list_new.append(x)\n",
        "  def getaccess(self,index):\n",
        "    return self.list_new[index]\n",
        "    \n"
      ],
      "metadata": {
        "id": "5eauJdIg8ISt"
      },
      "execution_count": null,
      "outputs": []
    },
    {
      "cell_type": "code",
      "source": [
        "list1=[1,2,3,4,5,6,7]\n",
        "x=implementation(list1)\n",
        "x.display()"
      ],
      "metadata": {
        "colab": {
          "base_uri": "https://localhost:8080/"
        },
        "id": "t1eXNjOl87Az",
        "outputId": "52cb34a2-d523-49a7-9bc1-5611bdd6b659"
      },
      "execution_count": null,
      "outputs": [
        {
          "output_type": "stream",
          "name": "stdout",
          "text": [
            "[1, 2, 3, 4, 5, 6, 7]\n"
          ]
        }
      ]
    },
    {
      "cell_type": "code",
      "source": [
        "x.lastnaverage(3)"
      ],
      "metadata": {
        "colab": {
          "base_uri": "https://localhost:8080/"
        },
        "id": "iSrjQ1d5DeBU",
        "outputId": "e216609a-59ec-416d-dd3e-d4479d1d11dc"
      },
      "execution_count": null,
      "outputs": [
        {
          "output_type": "execute_result",
          "data": {
            "text/plain": [
              "6.0"
            ]
          },
          "metadata": {},
          "execution_count": 10
        }
      ]
    },
    {
      "cell_type": "code",
      "source": [
        "x.add(10)"
      ],
      "metadata": {
        "id": "f5ohhfEGEBWl"
      },
      "execution_count": null,
      "outputs": []
    },
    {
      "cell_type": "code",
      "source": [
        "x.display()"
      ],
      "metadata": {
        "colab": {
          "base_uri": "https://localhost:8080/"
        },
        "id": "cMr9bj7wELTw",
        "outputId": "6001f256-88a0-4628-cb86-11a0218bab30"
      },
      "execution_count": null,
      "outputs": [
        {
          "output_type": "stream",
          "name": "stdout",
          "text": [
            "[1, 2, 3, 4, 5, 6, 7, 10]\n"
          ]
        }
      ]
    },
    {
      "cell_type": "code",
      "source": [
        "print(x.getaccess(2))"
      ],
      "metadata": {
        "colab": {
          "base_uri": "https://localhost:8080/"
        },
        "id": "muWtTAlyEPFd",
        "outputId": "5a8f31a5-4cd0-4ca9-e6d6-02bbb8a4c687"
      },
      "execution_count": null,
      "outputs": [
        {
          "output_type": "stream",
          "name": "stdout",
          "text": [
            "3\n"
          ]
        }
      ]
    }
  ]
}